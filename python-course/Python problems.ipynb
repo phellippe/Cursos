{
 "cells": [
  {
   "cell_type": "code",
   "execution_count": 8,
   "id": "57b0232f",
   "metadata": {},
   "outputs": [],
   "source": [
    "def animal_crackers(text): \n",
    "    f_word = text.split(' ')[0]\n",
    "    s_word = text.split(' ')[1]\n",
    "    if f_word[0].upper() == s_word[0].upper():\n",
    "        return True\n",
    "    else:\n",
    "        return False"
   ]
  },
  {
   "cell_type": "code",
   "execution_count": 5,
   "id": "db872aac",
   "metadata": {},
   "outputs": [
    {
     "name": "stdout",
     "output_type": "stream",
     "text": [
      "True\n"
     ]
    }
   ],
   "source": [
    "print(animal_crackers('Levelheaded Llama'))"
   ]
  },
  {
   "cell_type": "code",
   "execution_count": 9,
   "id": "3a3399c2",
   "metadata": {},
   "outputs": [
    {
     "name": "stdout",
     "output_type": "stream",
     "text": [
      "True\n"
     ]
    }
   ],
   "source": [
    "print(animal_crackers('suzane Sensata'))"
   ]
  },
  {
   "cell_type": "code",
   "execution_count": 14,
   "id": "55965241",
   "metadata": {},
   "outputs": [
    {
     "name": "stdout",
     "output_type": "stream",
     "text": [
      "False\n"
     ]
    }
   ],
   "source": [
    "print(animal_crackers('Crazy Kangaroo'))"
   ]
  },
  {
   "cell_type": "code",
   "execution_count": 15,
   "id": "b965e7e5",
   "metadata": {},
   "outputs": [],
   "source": [
    "#Pass"
   ]
  },
  {
   "cell_type": "code",
   "execution_count": 16,
   "id": "deb9446c",
   "metadata": {},
   "outputs": [],
   "source": [
    "def makes_twenty(n1,n2):\n",
    "    if n1 == 20 or n2 == 20 :\n",
    "        return True\n",
    "    elif (n1 + n2) == 20 : \n",
    "        return True\n",
    "    else :\n",
    "        return False"
   ]
  },
  {
   "cell_type": "code",
   "execution_count": 17,
   "id": "e48ce0cb",
   "metadata": {},
   "outputs": [
    {
     "data": {
      "text/plain": [
       "True"
      ]
     },
     "execution_count": 17,
     "metadata": {},
     "output_type": "execute_result"
    }
   ],
   "source": [
    "makes_twenty(20,10)"
   ]
  },
  {
   "cell_type": "code",
   "execution_count": 19,
   "id": "38e3a2ca",
   "metadata": {},
   "outputs": [
    {
     "data": {
      "text/plain": [
       "True"
      ]
     },
     "execution_count": 19,
     "metadata": {},
     "output_type": "execute_result"
    }
   ],
   "source": [
    "makes_twenty(12,8)"
   ]
  },
  {
   "cell_type": "code",
   "execution_count": 20,
   "id": "d05f953e",
   "metadata": {},
   "outputs": [
    {
     "data": {
      "text/plain": [
       "False"
      ]
     },
     "execution_count": 20,
     "metadata": {},
     "output_type": "execute_result"
    }
   ],
   "source": [
    "makes_twenty(2,3)"
   ]
  },
  {
   "cell_type": "code",
   "execution_count": 21,
   "id": "3b65a4f4",
   "metadata": {},
   "outputs": [],
   "source": [
    "#Pass"
   ]
  },
  {
   "cell_type": "code",
   "execution_count": 22,
   "id": "359987a5",
   "metadata": {},
   "outputs": [],
   "source": [
    "def old_macdonald(text):\n",
    "    cap_text = []\n",
    "    for index in range(len(text)):\n",
    "        if index == 0 or index == 3:\n",
    "            cap_text.append(text[index].upper())\n",
    "        else:\n",
    "            cap_text.append(text[index])\n",
    "    return ''.join(cap_text)"
   ]
  },
  {
   "cell_type": "code",
   "execution_count": 24,
   "id": "53519a98",
   "metadata": {},
   "outputs": [
    {
     "data": {
      "text/plain": [
       "'MacDonald'"
      ]
     },
     "execution_count": 24,
     "metadata": {},
     "output_type": "execute_result"
    }
   ],
   "source": [
    "old_macdonald('macdonald')"
   ]
  },
  {
   "cell_type": "code",
   "execution_count": 25,
   "id": "47647785",
   "metadata": {},
   "outputs": [
    {
     "data": {
      "text/plain": [
       "'SuzAnne'"
      ]
     },
     "execution_count": 25,
     "metadata": {},
     "output_type": "execute_result"
    }
   ],
   "source": [
    "old_macdonald('Suzanne')"
   ]
  },
  {
   "cell_type": "code",
   "execution_count": 26,
   "id": "81b34107",
   "metadata": {},
   "outputs": [],
   "source": [
    "#Pass"
   ]
  },
  {
   "cell_type": "code",
   "execution_count": 12,
   "id": "0242e8fb",
   "metadata": {},
   "outputs": [],
   "source": [
    "def master_yoda(text):\n",
    "    word_list = text.split()\n",
    "    word_list.reverse()\n",
    "    final_word = ' '.join(word_list)\n",
    "    return final_word"
   ]
  },
  {
   "cell_type": "code",
   "execution_count": 13,
   "id": "44c8307a",
   "metadata": {},
   "outputs": [
    {
     "name": "stdout",
     "output_type": "stream",
     "text": [
      "home am I\n"
     ]
    }
   ],
   "source": [
    "print(master_yoda('I am home'))"
   ]
  },
  {
   "cell_type": "code",
   "execution_count": 14,
   "id": "cdf798ba",
   "metadata": {},
   "outputs": [
    {
     "data": {
      "text/plain": [
       "'ready are We'"
      ]
     },
     "execution_count": 14,
     "metadata": {},
     "output_type": "execute_result"
    }
   ],
   "source": [
    "master_yoda('We are ready')"
   ]
  },
  {
   "cell_type": "code",
   "execution_count": 51,
   "id": "74e5e4f2",
   "metadata": {},
   "outputs": [],
   "source": [
    "#Pass"
   ]
  },
  {
   "cell_type": "code",
   "execution_count": 64,
   "id": "60e3c4f8",
   "metadata": {},
   "outputs": [],
   "source": [
    "def almost_there(n):\n",
    "    return abs(100 - n) <= 10 or abs(200 - n) <= 10"
   ]
  },
  {
   "cell_type": "code",
   "execution_count": 66,
   "id": "380cd48d",
   "metadata": {},
   "outputs": [
    {
     "data": {
      "text/plain": [
       "True"
      ]
     },
     "execution_count": 66,
     "metadata": {},
     "output_type": "execute_result"
    }
   ],
   "source": [
    "almost_there(90)"
   ]
  },
  {
   "cell_type": "code",
   "execution_count": 67,
   "id": "28514c7b",
   "metadata": {},
   "outputs": [
    {
     "data": {
      "text/plain": [
       "True"
      ]
     },
     "execution_count": 67,
     "metadata": {},
     "output_type": "execute_result"
    }
   ],
   "source": [
    "almost_there(104)"
   ]
  },
  {
   "cell_type": "code",
   "execution_count": 68,
   "id": "e00c3ba3",
   "metadata": {},
   "outputs": [
    {
     "data": {
      "text/plain": [
       "False"
      ]
     },
     "execution_count": 68,
     "metadata": {},
     "output_type": "execute_result"
    }
   ],
   "source": [
    "almost_there(150)"
   ]
  },
  {
   "cell_type": "code",
   "execution_count": 69,
   "id": "bb0227e1",
   "metadata": {},
   "outputs": [
    {
     "data": {
      "text/plain": [
       "True"
      ]
     },
     "execution_count": 69,
     "metadata": {},
     "output_type": "execute_result"
    }
   ],
   "source": [
    "almost_there(209)"
   ]
  },
  {
   "cell_type": "code",
   "execution_count": 15,
   "id": "2be7d808",
   "metadata": {},
   "outputs": [],
   "source": [
    "def has_33(nums):\n",
    "    for index in range(len(nums)-1):\n",
    "        if nums[index] == 3 and nums[index + 1] == 3:\n",
    "            return True\n",
    "    return False"
   ]
  },
  {
   "cell_type": "code",
   "execution_count": 16,
   "id": "efe174fc",
   "metadata": {},
   "outputs": [
    {
     "data": {
      "text/plain": [
       "True"
      ]
     },
     "execution_count": 16,
     "metadata": {},
     "output_type": "execute_result"
    }
   ],
   "source": [
    "has_33([1, 3, 3])"
   ]
  },
  {
   "cell_type": "code",
   "execution_count": 17,
   "id": "749be816",
   "metadata": {},
   "outputs": [
    {
     "data": {
      "text/plain": [
       "False"
      ]
     },
     "execution_count": 17,
     "metadata": {},
     "output_type": "execute_result"
    }
   ],
   "source": [
    "has_33([1, 3, 1, 3])"
   ]
  },
  {
   "cell_type": "code",
   "execution_count": 18,
   "id": "4dc72759",
   "metadata": {},
   "outputs": [
    {
     "data": {
      "text/plain": [
       "False"
      ]
     },
     "execution_count": 18,
     "metadata": {},
     "output_type": "execute_result"
    }
   ],
   "source": [
    "has_33([3, 1, 3])"
   ]
  },
  {
   "cell_type": "code",
   "execution_count": 20,
   "id": "e346a607",
   "metadata": {},
   "outputs": [],
   "source": [
    "def paper_doll(text):\n",
    "  letter_list = list(text)\n",
    "  word = []\n",
    "  for letter in letter_list:\n",
    "    count = 0\n",
    "    while count <= 2:\n",
    "      word.append(letter)\n",
    "      count += 1\n",
    "  return ''.join(word)\n"
   ]
  },
  {
   "cell_type": "code",
   "execution_count": 21,
   "id": "1d99f4b5",
   "metadata": {},
   "outputs": [
    {
     "data": {
      "text/plain": [
       "'HHHeeellllllooo'"
      ]
     },
     "execution_count": 21,
     "metadata": {},
     "output_type": "execute_result"
    }
   ],
   "source": [
    "paper_doll('Hello')"
   ]
  },
  {
   "cell_type": "code",
   "execution_count": 22,
   "id": "3843f8c2",
   "metadata": {},
   "outputs": [
    {
     "data": {
      "text/plain": [
       "'MMMiiissssssiiissssssiiippppppiii'"
      ]
     },
     "execution_count": 22,
     "metadata": {},
     "output_type": "execute_result"
    }
   ],
   "source": [
    "paper_doll('Mississippi')\n"
   ]
  },
  {
   "cell_type": "code",
   "execution_count": 23,
   "id": "01cba0fc",
   "metadata": {},
   "outputs": [],
   "source": [
    "def blackjack(a,b,c):\n",
    "  sum = a+b+c\n",
    "  if sum <= 21:\n",
    "    return sum\n",
    "  elif sum > 21:\n",
    "    if [a,b,c].count(11) > 0:\n",
    "      sum -= 10\n",
    "    if sum > 21:\n",
    "      return 'BURT'\n",
    "    return sum"
   ]
  },
  {
   "cell_type": "code",
   "execution_count": 24,
   "id": "10ea8c3b",
   "metadata": {},
   "outputs": [
    {
     "data": {
      "text/plain": [
       "18"
      ]
     },
     "execution_count": 24,
     "metadata": {},
     "output_type": "execute_result"
    }
   ],
   "source": [
    "blackjack(5,6,7)"
   ]
  },
  {
   "cell_type": "code",
   "execution_count": 25,
   "id": "9371b951",
   "metadata": {},
   "outputs": [
    {
     "data": {
      "text/plain": [
       "'BURT'"
      ]
     },
     "execution_count": 25,
     "metadata": {},
     "output_type": "execute_result"
    }
   ],
   "source": [
    "blackjack(9,9,9)"
   ]
  },
  {
   "cell_type": "code",
   "execution_count": 26,
   "id": "6f98e66e",
   "metadata": {},
   "outputs": [
    {
     "data": {
      "text/plain": [
       "19"
      ]
     },
     "execution_count": 26,
     "metadata": {},
     "output_type": "execute_result"
    }
   ],
   "source": [
    "blackjack(9,9,11)"
   ]
  },
  {
   "cell_type": "code",
   "execution_count": 27,
   "id": "79faa770",
   "metadata": {},
   "outputs": [],
   "source": [
    "def summer_69(arr):\n",
    "  sum = 0\n",
    "  section = False\n",
    "  for number in arr:\n",
    "    if number != 6 and section == False:\n",
    "      sum += number\n",
    "    elif number == 9:\n",
    "      section = False\n",
    "    else:\n",
    "      if section == False:\n",
    "        section = True\n",
    "      pass\n",
    "  return sum"
   ]
  },
  {
   "cell_type": "code",
   "execution_count": 28,
   "id": "3eee9544",
   "metadata": {},
   "outputs": [
    {
     "data": {
      "text/plain": [
       "9"
      ]
     },
     "execution_count": 28,
     "metadata": {},
     "output_type": "execute_result"
    }
   ],
   "source": [
    "summer_69([1, 3, 5])"
   ]
  },
  {
   "cell_type": "code",
   "execution_count": 29,
   "id": "58c035f4",
   "metadata": {},
   "outputs": [
    {
     "data": {
      "text/plain": [
       "9"
      ]
     },
     "execution_count": 29,
     "metadata": {},
     "output_type": "execute_result"
    }
   ],
   "source": [
    "summer_69([4, 5, 6, 7, 8, 9])"
   ]
  },
  {
   "cell_type": "code",
   "execution_count": 30,
   "id": "ea8ab415",
   "metadata": {},
   "outputs": [
    {
     "data": {
      "text/plain": [
       "14"
      ]
     },
     "execution_count": 30,
     "metadata": {},
     "output_type": "execute_result"
    }
   ],
   "source": [
    "summer_69([2, 1, 6, 9, 11])"
   ]
  },
  {
   "cell_type": "code",
   "execution_count": 31,
   "id": "03538821",
   "metadata": {},
   "outputs": [],
   "source": [
    "def spy_game(nums):\n",
    "  count=0\n",
    "  for i in nums:\n",
    "    if(i==0 and count==0):\n",
    "      count=1\n",
    "    if(i==0 and count==1):\n",
    "      count=2\n",
    "    if(i==7 and count ==2):\n",
    "      count =3\n",
    "  if count == 3:\n",
    "    return True\n",
    "  else:\n",
    "    return False"
   ]
  },
  {
   "cell_type": "code",
   "execution_count": 32,
   "id": "cf5f6630",
   "metadata": {},
   "outputs": [
    {
     "data": {
      "text/plain": [
       "True"
      ]
     },
     "execution_count": 32,
     "metadata": {},
     "output_type": "execute_result"
    }
   ],
   "source": [
    "spy_game([1,2,4,0,0,7,5])"
   ]
  },
  {
   "cell_type": "code",
   "execution_count": 33,
   "id": "c59759cb",
   "metadata": {},
   "outputs": [
    {
     "data": {
      "text/plain": [
       "True"
      ]
     },
     "execution_count": 33,
     "metadata": {},
     "output_type": "execute_result"
    }
   ],
   "source": [
    "spy_game([1,0,2,4,0,5,7])"
   ]
  },
  {
   "cell_type": "code",
   "execution_count": 34,
   "id": "03b5fe2d",
   "metadata": {},
   "outputs": [
    {
     "data": {
      "text/plain": [
       "False"
      ]
     },
     "execution_count": 34,
     "metadata": {},
     "output_type": "execute_result"
    }
   ],
   "source": [
    "spy_game([1,7,2,0,4,5,0])"
   ]
  },
  {
   "cell_type": "code",
   "execution_count": 3,
   "id": "0791e1d1",
   "metadata": {},
   "outputs": [],
   "source": [
    "def count_primes(num):\n",
    "    if num < 2:\n",
    "        return 0\n",
    "\n",
    "    primes = [2]\n",
    "    x = 3\n",
    "\n",
    "    while x <= num:\n",
    "        for y in primes:\n",
    "            if x%y == 0:\n",
    "                x += 2\n",
    "                break\n",
    "        else: \n",
    "            primes.append(x)\n",
    "            x += 2\n",
    "    print(primes)\n",
    "    return (len(primes))"
   ]
  },
  {
   "cell_type": "code",
   "execution_count": 4,
   "id": "232b2cf1",
   "metadata": {},
   "outputs": [
    {
     "name": "stdout",
     "output_type": "stream",
     "text": [
      "[2, 3, 5, 7, 11, 13, 17, 19, 23, 29, 31, 37, 41, 43, 47, 53, 59, 61, 67, 71, 73, 79, 83, 89, 97]\n"
     ]
    },
    {
     "data": {
      "text/plain": [
       "25"
      ]
     },
     "execution_count": 4,
     "metadata": {},
     "output_type": "execute_result"
    }
   ],
   "source": [
    "count_primes(100)"
   ]
  },
  {
   "cell_type": "code",
   "execution_count": null,
   "id": "62c8b729",
   "metadata": {},
   "outputs": [],
   "source": []
  }
 ],
 "metadata": {
  "kernelspec": {
   "display_name": "Python 3 (ipykernel)",
   "language": "python",
   "name": "python3"
  },
  "language_info": {
   "codemirror_mode": {
    "name": "ipython",
    "version": 3
   },
   "file_extension": ".py",
   "mimetype": "text/x-python",
   "name": "python",
   "nbconvert_exporter": "python",
   "pygments_lexer": "ipython3",
   "version": "3.11.5"
  }
 },
 "nbformat": 4,
 "nbformat_minor": 5
}
