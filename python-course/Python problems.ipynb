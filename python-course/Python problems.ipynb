{
 "cells": [
  {
   "cell_type": "code",
   "execution_count": 8,
   "id": "57b0232f",
   "metadata": {},
   "outputs": [],
   "source": [
    "def animal_crackers(text): \n",
    "    f_word = text.split(' ')[0]\n",
    "    s_word = text.split(' ')[1]\n",
    "    if f_word[0] == s_word[0]:\n",
    "        return True\n",
    "    else:\n",
    "        return False"
   ]
  },
  {
   "cell_type": "code",
   "execution_count": 13,
   "id": "db872aac",
   "metadata": {},
   "outputs": [
    {
     "name": "stdout",
     "output_type": "stream",
     "text": [
      "True\n"
     ]
    }
   ],
   "source": [
    "print(animal_crackers('Levelheaded Llama'))"
   ]
  },
  {
   "cell_type": "code",
   "execution_count": 14,
   "id": "55965241",
   "metadata": {},
   "outputs": [
    {
     "name": "stdout",
     "output_type": "stream",
     "text": [
      "False\n"
     ]
    }
   ],
   "source": [
    "print(animal_crackers('Crazy Kangaroo'))"
   ]
  },
  {
   "cell_type": "code",
   "execution_count": 15,
   "id": "b965e7e5",
   "metadata": {},
   "outputs": [],
   "source": [
    "#Pass"
   ]
  },
  {
   "cell_type": "code",
   "execution_count": 16,
   "id": "deb9446c",
   "metadata": {},
   "outputs": [],
   "source": [
    "def makes_twenty(n1,n2):\n",
    "    if n1 == 20 or n2 == 20 :\n",
    "        return True\n",
    "    elif (n1 + n2) == 20 : \n",
    "        return True\n",
    "    else :\n",
    "        return False"
   ]
  },
  {
   "cell_type": "code",
   "execution_count": 17,
   "id": "e48ce0cb",
   "metadata": {},
   "outputs": [
    {
     "data": {
      "text/plain": [
       "True"
      ]
     },
     "execution_count": 17,
     "metadata": {},
     "output_type": "execute_result"
    }
   ],
   "source": [
    "makes_twenty(20,10)"
   ]
  },
  {
   "cell_type": "code",
   "execution_count": 19,
   "id": "38e3a2ca",
   "metadata": {},
   "outputs": [
    {
     "data": {
      "text/plain": [
       "True"
      ]
     },
     "execution_count": 19,
     "metadata": {},
     "output_type": "execute_result"
    }
   ],
   "source": [
    "makes_twenty(12,8)"
   ]
  },
  {
   "cell_type": "code",
   "execution_count": 20,
   "id": "d05f953e",
   "metadata": {},
   "outputs": [
    {
     "data": {
      "text/plain": [
       "False"
      ]
     },
     "execution_count": 20,
     "metadata": {},
     "output_type": "execute_result"
    }
   ],
   "source": [
    "makes_twenty(2,3)"
   ]
  },
  {
   "cell_type": "code",
   "execution_count": 21,
   "id": "3b65a4f4",
   "metadata": {},
   "outputs": [],
   "source": [
    "#Pass"
   ]
  },
  {
   "cell_type": "code",
   "execution_count": 22,
   "id": "359987a5",
   "metadata": {},
   "outputs": [],
   "source": [
    "def old_macdonald(text):\n",
    "    cap_text = []\n",
    "    for index in range(len(text)):\n",
    "        if index == 0 or index == 3:\n",
    "            cap_text.append(text[index].upper())\n",
    "        else:\n",
    "            cap_text.append(text[index])\n",
    "    return ''.join(cap_text)"
   ]
  },
  {
   "cell_type": "code",
   "execution_count": 24,
   "id": "53519a98",
   "metadata": {},
   "outputs": [
    {
     "data": {
      "text/plain": [
       "'MacDonald'"
      ]
     },
     "execution_count": 24,
     "metadata": {},
     "output_type": "execute_result"
    }
   ],
   "source": [
    "old_macdonald('macdonald')"
   ]
  },
  {
   "cell_type": "code",
   "execution_count": 25,
   "id": "47647785",
   "metadata": {},
   "outputs": [
    {
     "data": {
      "text/plain": [
       "'SuzAnne'"
      ]
     },
     "execution_count": 25,
     "metadata": {},
     "output_type": "execute_result"
    }
   ],
   "source": [
    "old_macdonald('Suzanne')"
   ]
  },
  {
   "cell_type": "code",
   "execution_count": 26,
   "id": "81b34107",
   "metadata": {},
   "outputs": [],
   "source": [
    "#Pass"
   ]
  },
  {
   "cell_type": "code",
   "execution_count": 49,
   "id": "0242e8fb",
   "metadata": {},
   "outputs": [],
   "source": [
    "def master_yoda(text):\n",
    "    word_list = text.split(' ')\n",
    "    word_list.reverse()\n",
    "    final_word = ' '.join(word_list)\n",
    "    return final_word"
   ]
  },
  {
   "cell_type": "code",
   "execution_count": 50,
   "id": "44c8307a",
   "metadata": {},
   "outputs": [
    {
     "name": "stdout",
     "output_type": "stream",
     "text": [
      "home am I\n"
     ]
    }
   ],
   "source": [
    "print(master_yoda('I am home'))"
   ]
  },
  {
   "cell_type": "code",
   "execution_count": 45,
   "id": "cdf798ba",
   "metadata": {},
   "outputs": [
    {
     "data": {
      "text/plain": [
       "'ready are We'"
      ]
     },
     "execution_count": 45,
     "metadata": {},
     "output_type": "execute_result"
    }
   ],
   "source": [
    "master_yoda('We are ready')"
   ]
  },
  {
   "cell_type": "code",
   "execution_count": 51,
   "id": "74e5e4f2",
   "metadata": {},
   "outputs": [],
   "source": [
    "#Pass"
   ]
  },
  {
   "cell_type": "code",
   "execution_count": 64,
   "id": "60e3c4f8",
   "metadata": {},
   "outputs": [],
   "source": [
    "def almost_there(n):\n",
    "    return abs(100 - n) <= 10 or abs(200 - n) <= 10"
   ]
  },
  {
   "cell_type": "code",
   "execution_count": 66,
   "id": "380cd48d",
   "metadata": {},
   "outputs": [
    {
     "data": {
      "text/plain": [
       "True"
      ]
     },
     "execution_count": 66,
     "metadata": {},
     "output_type": "execute_result"
    }
   ],
   "source": [
    "almost_there(90)"
   ]
  },
  {
   "cell_type": "code",
   "execution_count": 67,
   "id": "28514c7b",
   "metadata": {},
   "outputs": [
    {
     "data": {
      "text/plain": [
       "True"
      ]
     },
     "execution_count": 67,
     "metadata": {},
     "output_type": "execute_result"
    }
   ],
   "source": [
    "almost_there(104)"
   ]
  },
  {
   "cell_type": "code",
   "execution_count": 68,
   "id": "e00c3ba3",
   "metadata": {},
   "outputs": [
    {
     "data": {
      "text/plain": [
       "False"
      ]
     },
     "execution_count": 68,
     "metadata": {},
     "output_type": "execute_result"
    }
   ],
   "source": [
    "almost_there(150)"
   ]
  },
  {
   "cell_type": "code",
   "execution_count": 69,
   "id": "bb0227e1",
   "metadata": {},
   "outputs": [
    {
     "data": {
      "text/plain": [
       "True"
      ]
     },
     "execution_count": 69,
     "metadata": {},
     "output_type": "execute_result"
    }
   ],
   "source": [
    "almost_there(209)"
   ]
  },
  {
   "cell_type": "code",
   "execution_count": 91,
   "id": "2be7d808",
   "metadata": {},
   "outputs": [],
   "source": [
    "def has_33(nums):\n",
    "    for index in range(len(nums)-1):\n",
    "        if nums[index] == nums[index + 1]:\n",
    "            return True\n",
    "        else: \n",
    "            pass\n",
    "    return False"
   ]
  },
  {
   "cell_type": "code",
   "execution_count": 92,
   "id": "efe174fc",
   "metadata": {},
   "outputs": [
    {
     "data": {
      "text/plain": [
       "True"
      ]
     },
     "execution_count": 92,
     "metadata": {},
     "output_type": "execute_result"
    }
   ],
   "source": [
    "has_33([1, 3, 3])"
   ]
  },
  {
   "cell_type": "code",
   "execution_count": 93,
   "id": "749be816",
   "metadata": {},
   "outputs": [
    {
     "data": {
      "text/plain": [
       "False"
      ]
     },
     "execution_count": 93,
     "metadata": {},
     "output_type": "execute_result"
    }
   ],
   "source": [
    "has_33([1, 3, 1, 3])"
   ]
  },
  {
   "cell_type": "code",
   "execution_count": 94,
   "id": "4dc72759",
   "metadata": {},
   "outputs": [
    {
     "data": {
      "text/plain": [
       "False"
      ]
     },
     "execution_count": 94,
     "metadata": {},
     "output_type": "execute_result"
    }
   ],
   "source": [
    "has_33([3, 1, 3])"
   ]
  },
  {
   "cell_type": "code",
   "execution_count": null,
   "id": "e346a607",
   "metadata": {},
   "outputs": [],
   "source": []
  }
 ],
 "metadata": {
  "kernelspec": {
   "display_name": "Python 3 (ipykernel)",
   "language": "python",
   "name": "python3"
  },
  "language_info": {
   "codemirror_mode": {
    "name": "ipython",
    "version": 3
   },
   "file_extension": ".py",
   "mimetype": "text/x-python",
   "name": "python",
   "nbconvert_exporter": "python",
   "pygments_lexer": "ipython3",
   "version": "3.9.13"
  }
 },
 "nbformat": 4,
 "nbformat_minor": 5
}
