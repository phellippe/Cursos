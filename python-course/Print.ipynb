{
 "cells": [
  {
   "cell_type": "markdown",
   "id": "603cfbc0",
   "metadata": {},
   "source": [
    "# Formatting with the .format() method\n",
    "a good way tro format ob jects into your strings for print statements is with the string.format() method. The syntax is:\n",
    "\n",
    "### 'String here {} then also {}'.format('somenthing1','something2')"
   ]
  },
  {
   "cell_type": "code",
   "execution_count": 2,
   "id": "6ee60039",
   "metadata": {},
   "outputs": [
    {
     "name": "stdout",
     "output_type": "stream",
     "text": [
      "This is a string INSERTED\n"
     ]
    }
   ],
   "source": [
    "print('This is a string {}'.format('INSERTED'))"
   ]
  },
  {
   "cell_type": "code",
   "execution_count": 3,
   "id": "6bae6206",
   "metadata": {},
   "outputs": [],
   "source": [
    "word = 'faster'"
   ]
  },
  {
   "cell_type": "code",
   "execution_count": 4,
   "id": "340b4cbd",
   "metadata": {},
   "outputs": [
    {
     "name": "stdout",
     "output_type": "stream",
     "text": [
      "The fox is faster\n"
     ]
    }
   ],
   "source": [
    "print('The fox is {}'.format(word))"
   ]
  },
  {
   "cell_type": "code",
   "execution_count": 6,
   "id": "ccfd78ec",
   "metadata": {},
   "outputs": [
    {
     "name": "stdout",
     "output_type": "stream",
     "text": [
      "The quick fox brown\n"
     ]
    }
   ],
   "source": [
    "print('The {2} {0} {1}'.format('fox', 'brown', 'quick'))"
   ]
  },
  {
   "cell_type": "code",
   "execution_count": 9,
   "id": "1279efb6",
   "metadata": {},
   "outputs": [
    {
     "name": "stdout",
     "output_type": "stream",
     "text": [
      "The quick brown fox\n"
     ]
    }
   ],
   "source": [
    "print('The {q} {b} {f}'.format(f = 'fox', b = 'brown', q = 'quick'))"
   ]
  },
  {
   "cell_type": "code",
   "execution_count": 11,
   "id": "d76aeb82",
   "metadata": {},
   "outputs": [
    {
     "name": "stdout",
     "output_type": "stream",
     "text": [
      "The fox fox fox\n"
     ]
    }
   ],
   "source": [
    "print('The {f} {f} {f}'.format(f = 'fox', b = 'brown', q = 'quick'))"
   ]
  },
  {
   "cell_type": "code",
   "execution_count": 12,
   "id": "dffdb0c5",
   "metadata": {},
   "outputs": [],
   "source": [
    "result = 100/324"
   ]
  },
  {
   "cell_type": "code",
   "execution_count": 22,
   "id": "6abaf28b",
   "metadata": {},
   "outputs": [],
   "source": [
    "result = 105.1231234"
   ]
  },
  {
   "cell_type": "code",
   "execution_count": 23,
   "id": "60f7fda9",
   "metadata": {},
   "outputs": [
    {
     "name": "stdout",
     "output_type": "stream",
     "text": [
      "The result was 105.1231234\n"
     ]
    }
   ],
   "source": [
    "print(\"The result was {r}\".format(r=result))"
   ]
  },
  {
   "cell_type": "code",
   "execution_count": 27,
   "id": "17cf152c",
   "metadata": {},
   "outputs": [
    {
     "name": "stdout",
     "output_type": "stream",
     "text": [
      "The result was 105.12\n"
     ]
    }
   ],
   "source": [
    "print(\"The result was {r:1.2f}\".format(r=result))"
   ]
  },
  {
   "cell_type": "code",
   "execution_count": 28,
   "id": "c9a809fa",
   "metadata": {},
   "outputs": [],
   "source": [
    "name = \"Jose\""
   ]
  },
  {
   "cell_type": "code",
   "execution_count": 29,
   "id": "682fece0",
   "metadata": {},
   "outputs": [
    {
     "name": "stdout",
     "output_type": "stream",
     "text": [
      "Hello, my name is Jose\n"
     ]
    }
   ],
   "source": [
    "print(f\"Hello, my name is {name}\")"
   ]
  },
  {
   "cell_type": "code",
   "execution_count": 30,
   "id": "518c3bf4",
   "metadata": {},
   "outputs": [],
   "source": [
    "name = \"Sam\"\n",
    "age = 17"
   ]
  },
  {
   "cell_type": "code",
   "execution_count": 31,
   "id": "d22cfbf4",
   "metadata": {},
   "outputs": [
    {
     "name": "stdout",
     "output_type": "stream",
     "text": [
      "Hello, I'm Sam and I'm 17 years old\n"
     ]
    }
   ],
   "source": [
    "print(f\"Hello, I'm {name} and I'm {age} years old\")"
   ]
  },
  {
   "cell_type": "code",
   "execution_count": null,
   "id": "d7b27d2a",
   "metadata": {},
   "outputs": [],
   "source": []
  }
 ],
 "metadata": {
  "kernelspec": {
   "display_name": "Python 3 (ipykernel)",
   "language": "python",
   "name": "python3"
  },
  "language_info": {
   "codemirror_mode": {
    "name": "ipython",
    "version": 3
   },
   "file_extension": ".py",
   "mimetype": "text/x-python",
   "name": "python",
   "nbconvert_exporter": "python",
   "pygments_lexer": "ipython3",
   "version": "3.9.13"
  }
 },
 "nbformat": 4,
 "nbformat_minor": 5
}
